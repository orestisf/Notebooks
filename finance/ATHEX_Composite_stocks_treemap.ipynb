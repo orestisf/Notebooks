{
  "nbformat": 4,
  "nbformat_minor": 0,
  "metadata": {
    "colab": {
      "provenance": [],
      "collapsed_sections": []
    },
    "kernelspec": {
      "name": "python3",
      "display_name": "Python 3"
    },
    "language_info": {
      "name": "python"
    }
  },
  "cells": [
    {
      "cell_type": "markdown",
      "source": [
        "# Drawing a treemap of the daily performance of securities listed in the Athens Stock Exchange General Index \n",
        "In this notebook we generate a treemap diagram for the stocks listed in the Athens Stock Exchange General Index\n",
        "\n",
        "We use YAHOO! Finance to get the stock data and plotly express to draw the treemap diagram.\n",
        "\n",
        "Example output:\n",
        "<img src='https://i.imgur.com/BJbORP8.png'>"
      ],
      "metadata": {
        "id": "tsl_aUEN2Ejh"
      }
    },
    {
      "cell_type": "markdown",
      "source": [
        "## Install / import libraries"
      ],
      "metadata": {
        "id": "6Rwvky2KXxUx"
      }
    },
    {
      "cell_type": "code",
      "source": [
        "# install libraries\n",
        "!pip install yfinance"
      ],
      "metadata": {
        "colab": {
          "base_uri": "https://localhost:8080/"
        },
        "id": "lk9WC5CKVbTq",
        "outputId": "0e86899a-0dba-438a-8341-66513fc3ef9d"
      },
      "execution_count": 1,
      "outputs": [
        {
          "output_type": "stream",
          "name": "stdout",
          "text": [
            "Looking in indexes: https://pypi.org/simple, https://us-python.pkg.dev/colab-wheels/public/simple/\n",
            "Collecting yfinance\n",
            "  Downloading yfinance-0.1.85-py2.py3-none-any.whl (29 kB)\n",
            "Requirement already satisfied: appdirs>=1.4.4 in /usr/local/lib/python3.7/dist-packages (from yfinance) (1.4.4)\n",
            "Requirement already satisfied: lxml>=4.5.1 in /usr/local/lib/python3.7/dist-packages (from yfinance) (4.9.1)\n",
            "Requirement already satisfied: multitasking>=0.0.7 in /usr/local/lib/python3.7/dist-packages (from yfinance) (0.0.11)\n",
            "Requirement already satisfied: pandas>=0.24.0 in /usr/local/lib/python3.7/dist-packages (from yfinance) (1.3.5)\n",
            "Requirement already satisfied: numpy>=1.15 in /usr/local/lib/python3.7/dist-packages (from yfinance) (1.21.6)\n",
            "Collecting requests>=2.26\n",
            "  Downloading requests-2.28.1-py3-none-any.whl (62 kB)\n",
            "\u001b[K     |████████████████████████████████| 62 kB 1.4 MB/s \n",
            "\u001b[?25hRequirement already satisfied: pytz>=2017.3 in /usr/local/lib/python3.7/dist-packages (from pandas>=0.24.0->yfinance) (2022.6)\n",
            "Requirement already satisfied: python-dateutil>=2.7.3 in /usr/local/lib/python3.7/dist-packages (from pandas>=0.24.0->yfinance) (2.8.2)\n",
            "Requirement already satisfied: six>=1.5 in /usr/local/lib/python3.7/dist-packages (from python-dateutil>=2.7.3->pandas>=0.24.0->yfinance) (1.15.0)\n",
            "Requirement already satisfied: idna<4,>=2.5 in /usr/local/lib/python3.7/dist-packages (from requests>=2.26->yfinance) (2.10)\n",
            "Requirement already satisfied: charset-normalizer<3,>=2 in /usr/local/lib/python3.7/dist-packages (from requests>=2.26->yfinance) (2.1.1)\n",
            "Requirement already satisfied: urllib3<1.27,>=1.21.1 in /usr/local/lib/python3.7/dist-packages (from requests>=2.26->yfinance) (1.24.3)\n",
            "Requirement already satisfied: certifi>=2017.4.17 in /usr/local/lib/python3.7/dist-packages (from requests>=2.26->yfinance) (2022.9.24)\n",
            "Installing collected packages: requests, yfinance\n",
            "  Attempting uninstall: requests\n",
            "    Found existing installation: requests 2.23.0\n",
            "    Uninstalling requests-2.23.0:\n",
            "      Successfully uninstalled requests-2.23.0\n",
            "Successfully installed requests-2.28.1 yfinance-0.1.85\n"
          ]
        }
      ]
    },
    {
      "cell_type": "code",
      "source": [
        "import pandas as pd\n",
        "import yfinance as yf\n",
        "import numpy as np\n",
        "\n",
        "from datetime import datetime\n",
        "\n",
        "import warnings\n",
        "\n",
        "# to generate the plotly diagram\n",
        "import plotly.express as px\n",
        "import plotly.graph_objects as go\n",
        "#from plotly.subplots import make_subplots\n",
        "\n",
        "warnings.filterwarnings(\"ignore\")"
      ],
      "metadata": {
        "id": "iy8Yp2NdVpqG"
      },
      "execution_count": 2,
      "outputs": []
    },
    {
      "cell_type": "markdown",
      "source": [
        "## Generate dataset\n",
        "*    Stock weight in the index is based on the [current](https://www.athexgroup.gr/web/guest/index-composition) index composition (as of 02 NOV 2022) \n",
        "*    Sector classification (second element in the list below) is based on [this](https://www.athexgroup.gr/documents/10180/5517704/ATHEX+Classification+Ver0.810+%28EN%29.pdf/5c49a27d-1078-4974-990b-5a5e1f278b73) ATHEX press release.\n",
        "\n",
        "Prices are fetched using Yahoo Finance API's `tickerdata.info()` (`currentPrice` and `previousClose` attributes).\n"
      ],
      "metadata": {
        "id": "nAXKRiMyhCie"
      }
    },
    {
      "cell_type": "code",
      "source": [
        "# list of ticker names composing the Athens Stock Exchange General Index (BBG: ASE:IND). The keys are the greek symbols and the values are a list with the yahoo finance ticker name, the industry and the index weight\n",
        "ATGSTONKS = {\n",
        "    'CENER':['CENER.AT','Industrial Goods & Services',0.57],\n",
        "    'TITC':['TITC.AT','Construction & Materials',2.6243],\n",
        "    'ΑΒΑΞ':['AVAX.AT','Construction & Materials',0.1954],\n",
        "    'ΑΔΜΗΕ':['ADMIE.AT','Utilities',1.0591],\n",
        "    'ΑΛΜΥ':['ALMY.AT','Basic Resources',0.071],\n",
        "    'ΑΛΦΑ':['ALPHA.AT','Banks',5.2259],\n",
        "    'ΑΡΑΙΓ':['AEGN.AT','Travel & Leisure',1.0148],\n",
        "    'ΒΙΟ':['VIO.AT','Industrial Goods & Services',0.9212],\n",
        "    'ΓΕΚΤΕΡΝΑ':['GEKTERNA.AT','Construction & Materials',3.335],\n",
        "    'ΔΕΗ':['PPC.AT','Utilities',5.454],\n",
        "    'ΕΕΕ':['EEE.AT','Food, Beverage & Tobacco',10.6946],\n",
        "    'ΕΛΛΑΚΤΩΡ':['ELLAKTOR.AT','Construction & Materials',0.7655],\n",
        "    'ΕΛΠΕ':['ELPE.AT','Energy',2.3321],\n",
        "    'ΕΛΣΤΡ':['ELSTR.AT','Basic Resources',0.1519],\n",
        "    'ΕΛΤΟΝ':['ELTON.AT','Industrial Goods & Services',0.0672],\n",
        "    'ΕΛΧΑ':['ELHA.AT','Basic Resources',0.4894],\n",
        "    'ΕΝΤΕΡ':['ENTER.AT','Technology',0.2747],\n",
        "    'ΕΠΣΙΛ':['EPSIL.AT','Technology',0.5575],\n",
        "    'ΕΤΕ':['ETE.AT','Banks',5.4313],\n",
        "    'ΕΥΑΠΣ':['EYAPS.AT','Utilities',0.1433],\n",
        "    'ΕΥΔΑΠ':['EYDAP.AT','Utilities',1.58],\n",
        "    'ΕΥΡΩΒ':['EUROB.AT','Banks',5.2023],\n",
        "    'ΕΧΑΕ':['EXAE.AT','Financial Services',1.0491],\n",
        "    'ΙΑΤΡ':['IATR.AT','Health Care',0.1488],\n",
        "    'ΙΚΤΙΝ':['IKTIN.AT','Construction & Materials',0.1073],\n",
        "    'ΙΝΚΑΤ':['INKAT.AT','Construction & Materials',0.1254],\n",
        "    'ΙΝΛΙΦ':['INLIF.AT','Insurance',0.1113],\n",
        "    'ΙΝΤΕΚ':['INTEK.AT','Technology',0.2842],\n",
        "    'ΙΝΤΕΡΚΟ':['INTERCO.AT','Real Estate',0.0826],\n",
        "    'ΙΝΤΚΑ':['INTRK.AT','Telecommunications',0.5202],\n",
        "    'ΚΑΜΠ':['KAMP.AT','Real Estate',0.2185],\n",
        "    'ΚΕΚΡ':['KEKR.AT','Real Estate',0.0263],\n",
        "    'ΚΟΥΕΣ':['QUEST.AT','Technology',0.6184],\n",
        "    'ΚΡΙ':['KRI.AT','Food, Beverage & Tobacco',0.2584],\n",
        "    'ΛΑΜΔΑ':['LAMDA.AT','Real Estate',2.8838],\n",
        "    'ΛΟΥΛΗ':['KYLO.AT','Food, Beverage & Tobacco',0.0544],\n",
        "    'ΜΙΓ':['MIG.AT','Financial Services',0.1069],\n",
        "    'ΜΟΗ':['MOH.AT','Energy',4.8944],\n",
        "    'ΜΟΤΟ':['MOTO.AT','Retail',0.1613],\n",
        "    'ΜΠΕΛΑ':['BELA.AT','Consumer Products & Services',4.8227],\n",
        "    'ΜΠΡΙΚ':['BRIQ.AT','Real Estate',0.1729],\n",
        "    'ΜΥΤΙΛ':['MYTIL.AT','Industrial Goods & Services',5.2607],\n",
        "    'ΟΛΘ':['OLTH.AT','Industrial Goods & Services',0.2759],\n",
        "    'ΟΛΠ':['PPA.AT','Industrial Goods & Services',0.5774],\n",
        "    'ΟΛΥΜΠ':['OLYMP.AT','Consumer Products & Services',0.1454],\n",
        "    'ΟΠΑΠ':['OPAP.AT','Travel & Leisure',4.6455],\n",
        "    'ΟΤΕ':['HTO.AT','Telecommunications',9.2886],\n",
        "    'ΟΤΟΕΛ':['OTOEL.AT','Consumer Products & Services',1.2166],\n",
        "    'ΠΑΠ':['PAP.AT','Personal Care, Drug & Grocery Stores',0.1681],\n",
        "    'ΠΕΙΡ':['TPEIR.AT','Banks',4.5992],\n",
        "    'ΠΕΤΡΟ':['PETRO.AT','Industrial Goods & Services',0.0904],\n",
        "    'ΠΛΑΘ':['PLAT.AT','Industrial Goods & Services',0.3566],\n",
        "    'ΠΛΑΙΣ':['PLAIS.AT','Retail',0.0661],\n",
        "    'ΠΛΑΚΡ':['PLAKR.AT','Industrial Goods & Services',0.9924],\n",
        "    'ΠΡΕΜΙΑ':['PREMIA.AT','Real Estate',0.1121],\n",
        "    'ΠΡΟΦ':['PROF.AT','Technology',0.2115],\n",
        "    'ΣΑΡ':['SAR.AT','Personal Care, Drug & Grocery Stores',1.2285],\n",
        "    'ΣΠΕΙΣ':['SPACE.AT','Telecommunications',0.0761],\n",
        "    'ΤΕΝΕΡΓ':['TENERGY.AT','Utilities',5.2454],\n",
        "    'ΦΡΛΚ':['FOYRK.AT','Retail',0.636]\n",
        "    }\n",
        "\n",
        "# the column names corresponding to the above dictionary - to be used in the data frame that will be created\n",
        "COLNAMES = ['YF_ticker', 'industry', 'weight']"
      ],
      "metadata": {
        "id": "W7PlQUyPR4Rh"
      },
      "execution_count": 3,
      "outputs": []
    },
    {
      "cell_type": "code",
      "source": [
        "# create data frame from dictionary\n",
        "masterDf = pd.DataFrame.from_dict(ATGSTONKS, orient ='index', columns = COLNAMES)\n",
        "\n",
        "# create empty dataframe to store prices from Yahoo Finance\n",
        "pricesDf = pd.DataFrame()\n",
        "\n",
        "# loop through 'YF_ticker' column\n",
        "for i in masterDf['YF_ticker']:\n",
        "    print('fetching prices for',i)\n",
        "    # get current price and previous close price and store them in the prices data frame\n",
        "    tickerdata = yf.Ticker(i)\n",
        "    pricesDf = pricesDf.append({'YF_ticker' : i, 'currentPrice' : tickerdata.info['currentPrice'], 'previousClose' : tickerdata.info['previousClose']}, ignore_index = True)\n",
        "print('done')\n",
        "\n",
        "# calculate percentage change between currentPrice and previousClose\n",
        "pricesDf['pctChange'] = ((pricesDf['currentPrice'] - pricesDf['previousClose']) / pricesDf['currentPrice'] * 100).round(2)\n",
        "\n",
        "# merge pricesDf into master df\n",
        "masterDf = masterDf.merge(pricesDf, left_on = 'YF_ticker', right_on = 'YF_ticker')"
      ],
      "metadata": {
        "colab": {
          "base_uri": "https://localhost:8080/"
        },
        "id": "kUSRIc6aUoRr",
        "outputId": "e0111480-9075-4843-fb4d-013d15f88ebd"
      },
      "execution_count": 4,
      "outputs": [
        {
          "output_type": "stream",
          "name": "stdout",
          "text": [
            "fetching prices for CENER.AT\n",
            "fetching prices for TITC.AT\n",
            "fetching prices for AVAX.AT\n",
            "fetching prices for ADMIE.AT\n",
            "fetching prices for ALMY.AT\n",
            "fetching prices for ALPHA.AT\n",
            "fetching prices for AEGN.AT\n",
            "fetching prices for VIO.AT\n",
            "fetching prices for GEKTERNA.AT\n",
            "fetching prices for PPC.AT\n",
            "fetching prices for EEE.AT\n",
            "fetching prices for ELLAKTOR.AT\n",
            "fetching prices for ELPE.AT\n",
            "fetching prices for ELSTR.AT\n",
            "fetching prices for ELTON.AT\n",
            "fetching prices for ELHA.AT\n",
            "fetching prices for ENTER.AT\n",
            "fetching prices for EPSIL.AT\n",
            "fetching prices for ETE.AT\n",
            "fetching prices for EYAPS.AT\n",
            "fetching prices for EYDAP.AT\n",
            "fetching prices for EUROB.AT\n",
            "fetching prices for EXAE.AT\n",
            "fetching prices for IATR.AT\n",
            "fetching prices for IKTIN.AT\n",
            "fetching prices for INKAT.AT\n",
            "fetching prices for INLIF.AT\n",
            "fetching prices for INTEK.AT\n",
            "fetching prices for INTERCO.AT\n",
            "fetching prices for INTRK.AT\n",
            "fetching prices for KAMP.AT\n",
            "fetching prices for KEKR.AT\n",
            "fetching prices for QUEST.AT\n",
            "fetching prices for KRI.AT\n",
            "fetching prices for LAMDA.AT\n",
            "fetching prices for KYLO.AT\n",
            "fetching prices for MIG.AT\n",
            "fetching prices for MOH.AT\n",
            "fetching prices for MOTO.AT\n",
            "fetching prices for BELA.AT\n",
            "fetching prices for BRIQ.AT\n",
            "fetching prices for MYTIL.AT\n",
            "fetching prices for OLTH.AT\n",
            "fetching prices for PPA.AT\n",
            "fetching prices for OLYMP.AT\n",
            "fetching prices for OPAP.AT\n",
            "fetching prices for HTO.AT\n",
            "fetching prices for OTOEL.AT\n",
            "fetching prices for PAP.AT\n",
            "fetching prices for TPEIR.AT\n",
            "fetching prices for PETRO.AT\n",
            "fetching prices for PLAT.AT\n",
            "fetching prices for PLAIS.AT\n",
            "fetching prices for PLAKR.AT\n",
            "fetching prices for PREMIA.AT\n",
            "fetching prices for PROF.AT\n",
            "fetching prices for SAR.AT\n",
            "fetching prices for SPACE.AT\n",
            "fetching prices for TENERGY.AT\n",
            "fetching prices for FOYRK.AT\n",
            "done\n"
          ]
        }
      ]
    },
    {
      "cell_type": "markdown",
      "source": [
        "## Generate Plotly treemap\n",
        "We use plotly express: https://plotly.com/python/treemaps/. Note that to get the values displayed correctly we first sort the data frame by `'YF_ticker','industry','pctChange'`.\n",
        "\n",
        "The color scale can be changed with another one that plotly makes available, run the following to print an image of the available diverging scales:\n",
        "\n",
        "`fig = px.colors.diverging.swatches_continuous()`\n",
        "\n",
        "`fig.show()`\n",
        "\n",
        "Alternatively a custom scale can be used (commented lines 8 - 10)"
      ],
      "metadata": {
        "id": "cYbyFA-6h_jM"
      }
    },
    {
      "cell_type": "code",
      "source": [
        "test = masterDf.sort_values(by=['YF_ticker','industry','pctChange'])\n",
        "\n",
        "fig = px.treemap(masterDf, \n",
        "                 path=[px.Constant('Athens General Composite'), 'industry', 'YF_ticker'], \n",
        "                 values = 'weight', #weight\n",
        "                 color = 'pctChange', #pctChange\n",
        "                 names = 'YF_ticker',\n",
        "                 #color_continuous_scale = [ 'Red', \"#8b0000\", 'Green'],\n",
        "                 #color_continuous_scale=['#FF0000', \"#000000\", '#00FF00'],\n",
        "                 #color_continuous_midpoint=0\n",
        "                 color_continuous_scale=px.colors.diverging.RdYlGn,\n",
        "                 color_continuous_midpoint=0,\n",
        "                 )\n",
        "\n",
        "fig.data[0].customdata = test['pctChange']\n",
        "fig.data[0].texttemplate = \"%{label}<br>%{customdata}%\"\n",
        "\n",
        "fig.update_traces(textposition = \"middle center\",  selector = dict(type = 'treemap'))\n",
        "\n",
        "# Hide the color scale from the chart\n",
        "fig.update(layout_coloraxis_showscale=False)\n",
        "\n",
        "# Set theme, margins, tiitle and annotations\n",
        "fig.update_layout(\n",
        "    template = \"plotly_dark\",\n",
        "    width = 1800,\n",
        "    height = 800,\n",
        "    margin = dict(t=100, l=10, r=10, b=70),\n",
        "    autosize = True,\n",
        "        title = dict(\n",
        "        {'text': f'<b>Athens General Composite snapshot</b><br>Rectangle size represents stock weight in the index.<br><sup>last update: {datetime.now().strftime(\"%d/%m/%Y %H:%M:%S\")} (15 min delayed data) </sup>',\n",
        "         'y':0.95,\n",
        "         'x':0.005},\n",
        "        font=dict(\n",
        "            family=\"Arial\",\n",
        "            size=22)\n",
        "        ),\n",
        "        annotations=[\n",
        "            dict(\n",
        "                text = \"<b>Data source:</b> Yahoo! Finance\",\n",
        "                 showarrow = False,\n",
        "                 xref = \"paper\",\n",
        "                 yref = \"paper\",\n",
        "                 x=0,\n",
        "                 y=-0.05),\n",
        "            dict(\n",
        "                text = \"<b>Orestis FOTIADIS</b>\",\n",
        "                 showarrow = False,\n",
        "                 xref = \"paper\",\n",
        "                 yref = \"paper\",\n",
        "                 x = 0,\n",
        "                 y = -0.08)\n",
        "            ]\n",
        "            )\n",
        "\n",
        "fig.show()"
      ],
      "metadata": {
        "colab": {
          "base_uri": "https://localhost:8080/",
          "height": 817
        },
        "id": "kZf0FGD-_U2b",
        "outputId": "cbfc2331-a9aa-476a-a22d-5d554b724ca4"
      },
      "execution_count": 8,
      "outputs": [
        {
          "output_type": "display_data",
          "data": {
            "text/html": [
              "<html>\n",
              "<head><meta charset=\"utf-8\" /></head>\n",
              "<body>\n",
              "    <div>            <script src=\"https://cdnjs.cloudflare.com/ajax/libs/mathjax/2.7.5/MathJax.js?config=TeX-AMS-MML_SVG\"></script><script type=\"text/javascript\">if (window.MathJax) {MathJax.Hub.Config({SVG: {font: \"STIX-Web\"}});}</script>                <script type=\"text/javascript\">window.PlotlyConfig = {MathJaxConfig: 'local'};</script>\n",
              "        <script src=\"https://cdn.plot.ly/plotly-2.8.3.min.js\"></script>                <div id=\"a27797a2-5e67-4ea8-9a33-afbcde5f4044\" class=\"plotly-graph-div\" style=\"height:800px; width:1800px;\"></div>            <script type=\"text/javascript\">                                    window.PLOTLYENV=window.PLOTLYENV || {};                                    if (document.getElementById(\"a27797a2-5e67-4ea8-9a33-afbcde5f4044\")) {                    Plotly.newPlot(                        \"a27797a2-5e67-4ea8-9a33-afbcde5f4044\",                        [{\"branchvalues\":\"total\",\"customdata\":[0.0,-0.92,0.99,0.83,-2.49,3.22,-0.27,0.35,0.22,-0.28,1.04,1.47,0.0,-1.44,1.89,1.44,0.1,3.36,0.93,0.0,0.14,-0.35,-1.38,0.25,-0.38,-1.35,0.28,-0.52,-3.58,0.75,-1.23,0.82,1.43,2.5,-1.38,-1.62,0.36,-0.28,0.0,0.12,0.41,0.0,-2.37,-1.62,-1.69,4.86,-1.01,0.0,0.94,0.36,2.27,0.94,-0.17,0.74,-0.48,0.0,0.22,0.17,1.46,-0.52],\"domain\":{\"x\":[0.0,1.0],\"y\":[0.0,1.0]},\"hovertemplate\":\"labels=%{label}<br>weight=%{value}<br>parent=%{parent}<br>id=%{id}<br>pctChange=%{color}<extra></extra>\",\"ids\":[\"Athens General Composite/Utilities/ADMIE.AT\",\"Athens General Composite/Travel & Leisure/AEGN.AT\",\"Athens General Composite/Basic Resources/ALMY.AT\",\"Athens General Composite/Banks/ALPHA.AT\",\"Athens General Composite/Construction & Materials/AVAX.AT\",\"Athens General Composite/Consumer Products & Services/BELA.AT\",\"Athens General Composite/Real Estate/BRIQ.AT\",\"Athens General Composite/Industrial Goods & Services/CENER.AT\",\"Athens General Composite/Food, Beverage & Tobacco/EEE.AT\",\"Athens General Composite/Basic Resources/ELHA.AT\",\"Athens General Composite/Construction & Materials/ELLAKTOR.AT\",\"Athens General Composite/Energy/ELPE.AT\",\"Athens General Composite/Basic Resources/ELSTR.AT\",\"Athens General Composite/Industrial Goods & Services/ELTON.AT\",\"Athens General Composite/Technology/ENTER.AT\",\"Athens General Composite/Technology/EPSIL.AT\",\"Athens General Composite/Banks/ETE.AT\",\"Athens General Composite/Banks/EUROB.AT\",\"Athens General Composite/Financial Services/EXAE.AT\",\"Athens General Composite/Utilities/EYAPS.AT\",\"Athens General Composite/Utilities/EYDAP.AT\",\"Athens General Composite/Retail/FOYRK.AT\",\"Athens General Composite/Construction & Materials/GEKTERNA.AT\",\"Athens General Composite/Telecommunications/HTO.AT\",\"Athens General Composite/Health Care/IATR.AT\",\"Athens General Composite/Construction & Materials/IKTIN.AT\",\"Athens General Composite/Construction & Materials/INKAT.AT\",\"Athens General Composite/Insurance/INLIF.AT\",\"Athens General Composite/Technology/INTEK.AT\",\"Athens General Composite/Real Estate/INTERCO.AT\",\"Athens General Composite/Telecommunications/INTRK.AT\",\"Athens General Composite/Real Estate/KAMP.AT\",\"Athens General Composite/Real Estate/KEKR.AT\",\"Athens General Composite/Food, Beverage & Tobacco/KRI.AT\",\"Athens General Composite/Food, Beverage & Tobacco/KYLO.AT\",\"Athens General Composite/Real Estate/LAMDA.AT\",\"Athens General Composite/Financial Services/MIG.AT\",\"Athens General Composite/Energy/MOH.AT\",\"Athens General Composite/Retail/MOTO.AT\",\"Athens General Composite/Industrial Goods & Services/MYTIL.AT\",\"Athens General Composite/Industrial Goods & Services/OLTH.AT\",\"Athens General Composite/Consumer Products & Services/OLYMP.AT\",\"Athens General Composite/Travel & Leisure/OPAP.AT\",\"Athens General Composite/Consumer Products & Services/OTOEL.AT\",\"Athens General Composite/Personal Care, Drug & Grocery Stores/PAP.AT\",\"Athens General Composite/Industrial Goods & Services/PETRO.AT\",\"Athens General Composite/Retail/PLAIS.AT\",\"Athens General Composite/Industrial Goods & Services/PLAKR.AT\",\"Athens General Composite/Industrial Goods & Services/PLAT.AT\",\"Athens General Composite/Industrial Goods & Services/PPA.AT\",\"Athens General Composite/Utilities/PPC.AT\",\"Athens General Composite/Real Estate/PREMIA.AT\",\"Athens General Composite/Technology/PROF.AT\",\"Athens General Composite/Technology/QUEST.AT\",\"Athens General Composite/Personal Care, Drug & Grocery Stores/SAR.AT\",\"Athens General Composite/Telecommunications/SPACE.AT\",\"Athens General Composite/Utilities/TENERGY.AT\",\"Athens General Composite/Construction & Materials/TITC.AT\",\"Athens General Composite/Banks/TPEIR.AT\",\"Athens General Composite/Industrial Goods & Services/VIO.AT\",\"Athens General Composite/Banks\",\"Athens General Composite/Basic Resources\",\"Athens General Composite/Construction & Materials\",\"Athens General Composite/Consumer Products & Services\",\"Athens General Composite/Energy\",\"Athens General Composite/Financial Services\",\"Athens General Composite/Food, Beverage & Tobacco\",\"Athens General Composite/Health Care\",\"Athens General Composite/Industrial Goods & Services\",\"Athens General Composite/Insurance\",\"Athens General Composite/Personal Care, Drug & Grocery Stores\",\"Athens General Composite/Real Estate\",\"Athens General Composite/Retail\",\"Athens General Composite/Technology\",\"Athens General Composite/Telecommunications\",\"Athens General Composite/Travel & Leisure\",\"Athens General Composite/Utilities\",\"Athens General Composite\"],\"labels\":[\"ADMIE.AT\",\"AEGN.AT\",\"ALMY.AT\",\"ALPHA.AT\",\"AVAX.AT\",\"BELA.AT\",\"BRIQ.AT\",\"CENER.AT\",\"EEE.AT\",\"ELHA.AT\",\"ELLAKTOR.AT\",\"ELPE.AT\",\"ELSTR.AT\",\"ELTON.AT\",\"ENTER.AT\",\"EPSIL.AT\",\"ETE.AT\",\"EUROB.AT\",\"EXAE.AT\",\"EYAPS.AT\",\"EYDAP.AT\",\"FOYRK.AT\",\"GEKTERNA.AT\",\"HTO.AT\",\"IATR.AT\",\"IKTIN.AT\",\"INKAT.AT\",\"INLIF.AT\",\"INTEK.AT\",\"INTERCO.AT\",\"INTRK.AT\",\"KAMP.AT\",\"KEKR.AT\",\"KRI.AT\",\"KYLO.AT\",\"LAMDA.AT\",\"MIG.AT\",\"MOH.AT\",\"MOTO.AT\",\"MYTIL.AT\",\"OLTH.AT\",\"OLYMP.AT\",\"OPAP.AT\",\"OTOEL.AT\",\"PAP.AT\",\"PETRO.AT\",\"PLAIS.AT\",\"PLAKR.AT\",\"PLAT.AT\",\"PPA.AT\",\"PPC.AT\",\"PREMIA.AT\",\"PROF.AT\",\"QUEST.AT\",\"SAR.AT\",\"SPACE.AT\",\"TENERGY.AT\",\"TITC.AT\",\"TPEIR.AT\",\"VIO.AT\",\"Banks\",\"Basic Resources\",\"Construction & Materials\",\"Consumer Products & Services\",\"Energy\",\"Financial Services\",\"Food, Beverage & Tobacco\",\"Health Care\",\"Industrial Goods & Services\",\"Insurance\",\"Personal Care, Drug & Grocery Stores\",\"Real Estate\",\"Retail\",\"Technology\",\"Telecommunications\",\"Travel & Leisure\",\"Utilities\",\"Athens General Composite\"],\"marker\":{\"coloraxis\":\"coloraxis\",\"colors\":[0.0,-0.92,0.99,0.83,-2.49,3.22,-0.27,0.35,0.21999999999999997,-0.28,1.04,1.47,0.0,-1.44,1.89,1.44,0.09999999999999999,3.3600000000000003,0.93,0.0,0.14,-0.35,-1.38,0.25,-0.38,-1.35,0.28,-0.52,-3.58,0.75,-1.23,0.82,1.43,2.5,-1.38,-1.62,0.36,-0.28,0.0,0.12,0.41,0.0,-2.37,-1.62,-1.69,4.86,-1.01,0.0,0.94,0.36,2.27,0.94,-0.17,0.74,-0.48000000000000004,0.0,0.22,0.17,1.46,-0.52,1.4211649322781994,-0.09369928400954658,-0.5531096478351437,2.1922165990266307,0.28475126271362344,0.8772897923875432,0.2656158584225157,-0.38,0.1482169275006036,-0.52,-0.6256401260203351,-1.2397277043647388,-0.33514130182997454,0.3731223346863279,0.1701892785966474,-2.1100385138596893,1.0203213220786542,0.4456546156546157]},\"name\":\"\",\"parents\":[\"Athens General Composite/Utilities\",\"Athens General Composite/Travel & Leisure\",\"Athens General Composite/Basic Resources\",\"Athens General Composite/Banks\",\"Athens General Composite/Construction & Materials\",\"Athens General Composite/Consumer Products & Services\",\"Athens General Composite/Real Estate\",\"Athens General Composite/Industrial Goods & Services\",\"Athens General Composite/Food, Beverage & Tobacco\",\"Athens General Composite/Basic Resources\",\"Athens General Composite/Construction & Materials\",\"Athens General Composite/Energy\",\"Athens General Composite/Basic Resources\",\"Athens General Composite/Industrial Goods & Services\",\"Athens General Composite/Technology\",\"Athens General Composite/Technology\",\"Athens General Composite/Banks\",\"Athens General Composite/Banks\",\"Athens General Composite/Financial Services\",\"Athens General Composite/Utilities\",\"Athens General Composite/Utilities\",\"Athens General Composite/Retail\",\"Athens General Composite/Construction & Materials\",\"Athens General Composite/Telecommunications\",\"Athens General Composite/Health Care\",\"Athens General Composite/Construction & Materials\",\"Athens General Composite/Construction & Materials\",\"Athens General Composite/Insurance\",\"Athens General Composite/Technology\",\"Athens General Composite/Real Estate\",\"Athens General Composite/Telecommunications\",\"Athens General Composite/Real Estate\",\"Athens General Composite/Real Estate\",\"Athens General Composite/Food, Beverage & Tobacco\",\"Athens General Composite/Food, Beverage & Tobacco\",\"Athens General Composite/Real Estate\",\"Athens General Composite/Financial Services\",\"Athens General Composite/Energy\",\"Athens General Composite/Retail\",\"Athens General Composite/Industrial Goods & Services\",\"Athens General Composite/Industrial Goods & Services\",\"Athens General Composite/Consumer Products & Services\",\"Athens General Composite/Travel & Leisure\",\"Athens General Composite/Consumer Products & Services\",\"Athens General Composite/Personal Care, Drug & Grocery Stores\",\"Athens General Composite/Industrial Goods & Services\",\"Athens General Composite/Retail\",\"Athens General Composite/Industrial Goods & Services\",\"Athens General Composite/Industrial Goods & Services\",\"Athens General Composite/Industrial Goods & Services\",\"Athens General Composite/Utilities\",\"Athens General Composite/Real Estate\",\"Athens General Composite/Technology\",\"Athens General Composite/Technology\",\"Athens General Composite/Personal Care, Drug & Grocery Stores\",\"Athens General Composite/Telecommunications\",\"Athens General Composite/Utilities\",\"Athens General Composite/Construction & Materials\",\"Athens General Composite/Banks\",\"Athens General Composite/Industrial Goods & Services\",\"Athens General Composite\",\"Athens General Composite\",\"Athens General Composite\",\"Athens General Composite\",\"Athens General Composite\",\"Athens General Composite\",\"Athens General Composite\",\"Athens General Composite\",\"Athens General Composite\",\"Athens General Composite\",\"Athens General Composite\",\"Athens General Composite\",\"Athens General Composite\",\"Athens General Composite\",\"Athens General Composite\",\"Athens General Composite\",\"Athens General Composite\",\"\"],\"values\":[1.0591,1.0148,0.071,5.2259,0.1954,4.8227,0.1729,0.57,10.6946,0.4894,0.7655,2.3321,0.1519,0.0672,0.2747,0.5575,5.4313,5.2023,1.0491,0.1433,1.58,0.636,3.335,9.2886,0.1488,0.1073,0.1254,0.1113,0.2842,0.0826,0.5202,0.2185,0.0263,0.2584,0.0544,2.8838,0.1069,4.8944,0.1613,5.2607,0.2759,0.1454,4.6455,1.2166,0.1681,0.0904,0.0661,0.9924,0.3566,0.5774,5.454,0.1121,0.2115,0.6184,1.2285,0.0761,5.2454,2.6243,4.5992,0.9212,20.4587,0.7123,7.1529,6.1847,7.2265,1.156,11.007399999999999,0.1488,9.111799999999999,0.1113,1.3965999999999998,3.4962,0.8634,1.9463,9.8849,5.6603,13.4818,99.9999],\"type\":\"treemap\",\"texttemplate\":\"%{label}<br>%{customdata}%\",\"textposition\":\"middle center\"}],                        {\"template\":{\"data\":{\"barpolar\":[{\"marker\":{\"line\":{\"color\":\"rgb(17,17,17)\",\"width\":0.5},\"pattern\":{\"fillmode\":\"overlay\",\"size\":10,\"solidity\":0.2}},\"type\":\"barpolar\"}],\"bar\":[{\"error_x\":{\"color\":\"#f2f5fa\"},\"error_y\":{\"color\":\"#f2f5fa\"},\"marker\":{\"line\":{\"color\":\"rgb(17,17,17)\",\"width\":0.5},\"pattern\":{\"fillmode\":\"overlay\",\"size\":10,\"solidity\":0.2}},\"type\":\"bar\"}],\"carpet\":[{\"aaxis\":{\"endlinecolor\":\"#A2B1C6\",\"gridcolor\":\"#506784\",\"linecolor\":\"#506784\",\"minorgridcolor\":\"#506784\",\"startlinecolor\":\"#A2B1C6\"},\"baxis\":{\"endlinecolor\":\"#A2B1C6\",\"gridcolor\":\"#506784\",\"linecolor\":\"#506784\",\"minorgridcolor\":\"#506784\",\"startlinecolor\":\"#A2B1C6\"},\"type\":\"carpet\"}],\"choropleth\":[{\"colorbar\":{\"outlinewidth\":0,\"ticks\":\"\"},\"type\":\"choropleth\"}],\"contourcarpet\":[{\"colorbar\":{\"outlinewidth\":0,\"ticks\":\"\"},\"type\":\"contourcarpet\"}],\"contour\":[{\"colorbar\":{\"outlinewidth\":0,\"ticks\":\"\"},\"colorscale\":[[0.0,\"#0d0887\"],[0.1111111111111111,\"#46039f\"],[0.2222222222222222,\"#7201a8\"],[0.3333333333333333,\"#9c179e\"],[0.4444444444444444,\"#bd3786\"],[0.5555555555555556,\"#d8576b\"],[0.6666666666666666,\"#ed7953\"],[0.7777777777777778,\"#fb9f3a\"],[0.8888888888888888,\"#fdca26\"],[1.0,\"#f0f921\"]],\"type\":\"contour\"}],\"heatmapgl\":[{\"colorbar\":{\"outlinewidth\":0,\"ticks\":\"\"},\"colorscale\":[[0.0,\"#0d0887\"],[0.1111111111111111,\"#46039f\"],[0.2222222222222222,\"#7201a8\"],[0.3333333333333333,\"#9c179e\"],[0.4444444444444444,\"#bd3786\"],[0.5555555555555556,\"#d8576b\"],[0.6666666666666666,\"#ed7953\"],[0.7777777777777778,\"#fb9f3a\"],[0.8888888888888888,\"#fdca26\"],[1.0,\"#f0f921\"]],\"type\":\"heatmapgl\"}],\"heatmap\":[{\"colorbar\":{\"outlinewidth\":0,\"ticks\":\"\"},\"colorscale\":[[0.0,\"#0d0887\"],[0.1111111111111111,\"#46039f\"],[0.2222222222222222,\"#7201a8\"],[0.3333333333333333,\"#9c179e\"],[0.4444444444444444,\"#bd3786\"],[0.5555555555555556,\"#d8576b\"],[0.6666666666666666,\"#ed7953\"],[0.7777777777777778,\"#fb9f3a\"],[0.8888888888888888,\"#fdca26\"],[1.0,\"#f0f921\"]],\"type\":\"heatmap\"}],\"histogram2dcontour\":[{\"colorbar\":{\"outlinewidth\":0,\"ticks\":\"\"},\"colorscale\":[[0.0,\"#0d0887\"],[0.1111111111111111,\"#46039f\"],[0.2222222222222222,\"#7201a8\"],[0.3333333333333333,\"#9c179e\"],[0.4444444444444444,\"#bd3786\"],[0.5555555555555556,\"#d8576b\"],[0.6666666666666666,\"#ed7953\"],[0.7777777777777778,\"#fb9f3a\"],[0.8888888888888888,\"#fdca26\"],[1.0,\"#f0f921\"]],\"type\":\"histogram2dcontour\"}],\"histogram2d\":[{\"colorbar\":{\"outlinewidth\":0,\"ticks\":\"\"},\"colorscale\":[[0.0,\"#0d0887\"],[0.1111111111111111,\"#46039f\"],[0.2222222222222222,\"#7201a8\"],[0.3333333333333333,\"#9c179e\"],[0.4444444444444444,\"#bd3786\"],[0.5555555555555556,\"#d8576b\"],[0.6666666666666666,\"#ed7953\"],[0.7777777777777778,\"#fb9f3a\"],[0.8888888888888888,\"#fdca26\"],[1.0,\"#f0f921\"]],\"type\":\"histogram2d\"}],\"histogram\":[{\"marker\":{\"pattern\":{\"fillmode\":\"overlay\",\"size\":10,\"solidity\":0.2}},\"type\":\"histogram\"}],\"mesh3d\":[{\"colorbar\":{\"outlinewidth\":0,\"ticks\":\"\"},\"type\":\"mesh3d\"}],\"parcoords\":[{\"line\":{\"colorbar\":{\"outlinewidth\":0,\"ticks\":\"\"}},\"type\":\"parcoords\"}],\"pie\":[{\"automargin\":true,\"type\":\"pie\"}],\"scatter3d\":[{\"line\":{\"colorbar\":{\"outlinewidth\":0,\"ticks\":\"\"}},\"marker\":{\"colorbar\":{\"outlinewidth\":0,\"ticks\":\"\"}},\"type\":\"scatter3d\"}],\"scattercarpet\":[{\"marker\":{\"colorbar\":{\"outlinewidth\":0,\"ticks\":\"\"}},\"type\":\"scattercarpet\"}],\"scattergeo\":[{\"marker\":{\"colorbar\":{\"outlinewidth\":0,\"ticks\":\"\"}},\"type\":\"scattergeo\"}],\"scattergl\":[{\"marker\":{\"line\":{\"color\":\"#283442\"}},\"type\":\"scattergl\"}],\"scattermapbox\":[{\"marker\":{\"colorbar\":{\"outlinewidth\":0,\"ticks\":\"\"}},\"type\":\"scattermapbox\"}],\"scatterpolargl\":[{\"marker\":{\"colorbar\":{\"outlinewidth\":0,\"ticks\":\"\"}},\"type\":\"scatterpolargl\"}],\"scatterpolar\":[{\"marker\":{\"colorbar\":{\"outlinewidth\":0,\"ticks\":\"\"}},\"type\":\"scatterpolar\"}],\"scatter\":[{\"marker\":{\"line\":{\"color\":\"#283442\"}},\"type\":\"scatter\"}],\"scatterternary\":[{\"marker\":{\"colorbar\":{\"outlinewidth\":0,\"ticks\":\"\"}},\"type\":\"scatterternary\"}],\"surface\":[{\"colorbar\":{\"outlinewidth\":0,\"ticks\":\"\"},\"colorscale\":[[0.0,\"#0d0887\"],[0.1111111111111111,\"#46039f\"],[0.2222222222222222,\"#7201a8\"],[0.3333333333333333,\"#9c179e\"],[0.4444444444444444,\"#bd3786\"],[0.5555555555555556,\"#d8576b\"],[0.6666666666666666,\"#ed7953\"],[0.7777777777777778,\"#fb9f3a\"],[0.8888888888888888,\"#fdca26\"],[1.0,\"#f0f921\"]],\"type\":\"surface\"}],\"table\":[{\"cells\":{\"fill\":{\"color\":\"#506784\"},\"line\":{\"color\":\"rgb(17,17,17)\"}},\"header\":{\"fill\":{\"color\":\"#2a3f5f\"},\"line\":{\"color\":\"rgb(17,17,17)\"}},\"type\":\"table\"}]},\"layout\":{\"annotationdefaults\":{\"arrowcolor\":\"#f2f5fa\",\"arrowhead\":0,\"arrowwidth\":1},\"autotypenumbers\":\"strict\",\"coloraxis\":{\"colorbar\":{\"outlinewidth\":0,\"ticks\":\"\"}},\"colorscale\":{\"diverging\":[[0,\"#8e0152\"],[0.1,\"#c51b7d\"],[0.2,\"#de77ae\"],[0.3,\"#f1b6da\"],[0.4,\"#fde0ef\"],[0.5,\"#f7f7f7\"],[0.6,\"#e6f5d0\"],[0.7,\"#b8e186\"],[0.8,\"#7fbc41\"],[0.9,\"#4d9221\"],[1,\"#276419\"]],\"sequential\":[[0.0,\"#0d0887\"],[0.1111111111111111,\"#46039f\"],[0.2222222222222222,\"#7201a8\"],[0.3333333333333333,\"#9c179e\"],[0.4444444444444444,\"#bd3786\"],[0.5555555555555556,\"#d8576b\"],[0.6666666666666666,\"#ed7953\"],[0.7777777777777778,\"#fb9f3a\"],[0.8888888888888888,\"#fdca26\"],[1.0,\"#f0f921\"]],\"sequentialminus\":[[0.0,\"#0d0887\"],[0.1111111111111111,\"#46039f\"],[0.2222222222222222,\"#7201a8\"],[0.3333333333333333,\"#9c179e\"],[0.4444444444444444,\"#bd3786\"],[0.5555555555555556,\"#d8576b\"],[0.6666666666666666,\"#ed7953\"],[0.7777777777777778,\"#fb9f3a\"],[0.8888888888888888,\"#fdca26\"],[1.0,\"#f0f921\"]]},\"colorway\":[\"#636efa\",\"#EF553B\",\"#00cc96\",\"#ab63fa\",\"#FFA15A\",\"#19d3f3\",\"#FF6692\",\"#B6E880\",\"#FF97FF\",\"#FECB52\"],\"font\":{\"color\":\"#f2f5fa\"},\"geo\":{\"bgcolor\":\"rgb(17,17,17)\",\"lakecolor\":\"rgb(17,17,17)\",\"landcolor\":\"rgb(17,17,17)\",\"showlakes\":true,\"showland\":true,\"subunitcolor\":\"#506784\"},\"hoverlabel\":{\"align\":\"left\"},\"hovermode\":\"closest\",\"mapbox\":{\"style\":\"dark\"},\"paper_bgcolor\":\"rgb(17,17,17)\",\"plot_bgcolor\":\"rgb(17,17,17)\",\"polar\":{\"angularaxis\":{\"gridcolor\":\"#506784\",\"linecolor\":\"#506784\",\"ticks\":\"\"},\"bgcolor\":\"rgb(17,17,17)\",\"radialaxis\":{\"gridcolor\":\"#506784\",\"linecolor\":\"#506784\",\"ticks\":\"\"}},\"scene\":{\"xaxis\":{\"backgroundcolor\":\"rgb(17,17,17)\",\"gridcolor\":\"#506784\",\"gridwidth\":2,\"linecolor\":\"#506784\",\"showbackground\":true,\"ticks\":\"\",\"zerolinecolor\":\"#C8D4E3\"},\"yaxis\":{\"backgroundcolor\":\"rgb(17,17,17)\",\"gridcolor\":\"#506784\",\"gridwidth\":2,\"linecolor\":\"#506784\",\"showbackground\":true,\"ticks\":\"\",\"zerolinecolor\":\"#C8D4E3\"},\"zaxis\":{\"backgroundcolor\":\"rgb(17,17,17)\",\"gridcolor\":\"#506784\",\"gridwidth\":2,\"linecolor\":\"#506784\",\"showbackground\":true,\"ticks\":\"\",\"zerolinecolor\":\"#C8D4E3\"}},\"shapedefaults\":{\"line\":{\"color\":\"#f2f5fa\"}},\"sliderdefaults\":{\"bgcolor\":\"#C8D4E3\",\"bordercolor\":\"rgb(17,17,17)\",\"borderwidth\":1,\"tickwidth\":0},\"ternary\":{\"aaxis\":{\"gridcolor\":\"#506784\",\"linecolor\":\"#506784\",\"ticks\":\"\"},\"baxis\":{\"gridcolor\":\"#506784\",\"linecolor\":\"#506784\",\"ticks\":\"\"},\"bgcolor\":\"rgb(17,17,17)\",\"caxis\":{\"gridcolor\":\"#506784\",\"linecolor\":\"#506784\",\"ticks\":\"\"}},\"title\":{\"x\":0.05},\"updatemenudefaults\":{\"bgcolor\":\"#506784\",\"borderwidth\":0},\"xaxis\":{\"automargin\":true,\"gridcolor\":\"#283442\",\"linecolor\":\"#506784\",\"ticks\":\"\",\"title\":{\"standoff\":15},\"zerolinecolor\":\"#283442\",\"zerolinewidth\":2},\"yaxis\":{\"automargin\":true,\"gridcolor\":\"#283442\",\"linecolor\":\"#506784\",\"ticks\":\"\",\"title\":{\"standoff\":15},\"zerolinecolor\":\"#283442\",\"zerolinewidth\":2}}},\"coloraxis\":{\"colorbar\":{\"title\":{\"text\":\"pctChange\"}},\"colorscale\":[[0.0,\"rgb(165,0,38)\"],[0.1,\"rgb(215,48,39)\"],[0.2,\"rgb(244,109,67)\"],[0.3,\"rgb(253,174,97)\"],[0.4,\"rgb(254,224,139)\"],[0.5,\"rgb(255,255,191)\"],[0.6,\"rgb(217,239,139)\"],[0.7,\"rgb(166,217,106)\"],[0.8,\"rgb(102,189,99)\"],[0.9,\"rgb(26,152,80)\"],[1.0,\"rgb(0,104,55)\"]],\"cmid\":0,\"showscale\":false},\"legend\":{\"tracegroupgap\":0},\"margin\":{\"t\":100,\"l\":10,\"r\":10,\"b\":70},\"title\":{\"font\":{\"family\":\"Arial\",\"size\":22},\"text\":\"<b>Athens General Composite snapshot</b><br>Rectangle size represents stock weight in the index.<br><sup>last update: 10/11/2022 06:35:26 (15 min delayed data) </sup>\",\"y\":0.95,\"x\":0.005},\"width\":1800,\"height\":800,\"autosize\":true,\"annotations\":[{\"showarrow\":false,\"text\":\"<b>Data source:</b> Yahoo! Finance\",\"x\":0,\"xref\":\"paper\",\"y\":-0.05,\"yref\":\"paper\"},{\"showarrow\":false,\"text\":\"<b>Orestis FOTIADIS</b>\",\"x\":0,\"xref\":\"paper\",\"y\":-0.08,\"yref\":\"paper\"}]},                        {\"responsive\": true}                    ).then(function(){\n",
              "                            \n",
              "var gd = document.getElementById('a27797a2-5e67-4ea8-9a33-afbcde5f4044');\n",
              "var x = new MutationObserver(function (mutations, observer) {{\n",
              "        var display = window.getComputedStyle(gd).display;\n",
              "        if (!display || display === 'none') {{\n",
              "            console.log([gd, 'removed!']);\n",
              "            Plotly.purge(gd);\n",
              "            observer.disconnect();\n",
              "        }}\n",
              "}});\n",
              "\n",
              "// Listen for the removal of the full notebook cells\n",
              "var notebookContainer = gd.closest('#notebook-container');\n",
              "if (notebookContainer) {{\n",
              "    x.observe(notebookContainer, {childList: true});\n",
              "}}\n",
              "\n",
              "// Listen for the clearing of the current output cell\n",
              "var outputEl = gd.closest('.output');\n",
              "if (outputEl) {{\n",
              "    x.observe(outputEl, {childList: true});\n",
              "}}\n",
              "\n",
              "                        })                };                            </script>        </div>\n",
              "</body>\n",
              "</html>"
            ]
          },
          "metadata": {}
        }
      ]
    }
  ]
}